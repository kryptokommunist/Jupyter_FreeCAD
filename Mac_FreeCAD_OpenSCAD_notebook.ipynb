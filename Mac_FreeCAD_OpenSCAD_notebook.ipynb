{
 "cells": [
  {
   "cell_type": "code",
   "execution_count": null,
   "id": "solved-township",
   "metadata": {},
   "outputs": [],
   "source": [
    "import sys, os\n",
    "\n",
    "#JUPYTER_REPO_PATH = \"/opt/jupyter_freecad/\"\n",
    "JUPYTER_REPO_PATH = \"/Users/keithsloan/Jupyter_FreeCAD\"\n",
    "\n",
    "#sys.path.append(\"/opt/freecad/freecad_build/lib\")\n",
    "sys.path.append(\"/Applications/FreeCAD_0.19-E.app/Contents/Resources/lib\")\n",
    "sys.path.append(\"/Applications/FreeCAD_0.19-E.app/Contents/Resources/lib/python3.8/site-packages\")\n",
    "sys.path.append(\"/Applications/FreeCAD_0.19-E.app/Contents/Resources/lib/python3.8/site-packages/PySide2\")\n",
    "sys.path.append(\"/Applications/FreeCAD_0.19-E.app/Contents/Resources/lib/python3.8/site-packages/shiboken2\")\n",
    "sys.path.append(JUPYTER_REPO_PATH + \"IPyth onFreeCADViewer\")\n",
    "\n",
    "import FreeCAD, FreeCADGui\n",
    "from pivy import coin\n",
    "from freecadviewer import render_document, get_document_renderer\n",
    "\n",
    "FreeCADGui.setupWithoutGUI()"
   ]
  },
  {
   "cell_type": "code",
   "execution_count": null,
   "id": "blond-today",
   "metadata": {},
   "outputs": [],
   "source": [
    "doc = FreeCAD.newDocument(\"test_document\")\n",
    "doc.addObject(\"Part::Box\",\"Box\")\n",
    "doc.addObject(\"Part::Cylinder\",\"Cylinder\")\n",
    "doc.addObject(\"Part::Sphere\",\"Sphere\")\n",
    "doc.addObject(\"Part::Torus\",\"Torus\")\n",
    "doc.recompute()\n",
    "doc.FileName = \"test_document.FCStd\"\n",
    "doc.save()"
   ]
  },
  {
   "cell_type": "code",
   "execution_count": null,
   "id": "gentle-journalist",
   "metadata": {},
   "outputs": [],
   "source": [
    "render_document(doc)"
   ]
  },
  {
   "cell_type": "code",
   "execution_count": 3,
   "id": "elect-accent",
   "metadata": {},
   "outputs": [
    {
     "name": "stdout",
     "output_type": "stream",
     "text": [
      "ImportCSG Version 0.6a\n",
      "Start Lex\n",
      "End Lex\n",
      "Load Parser\n",
      "Parser Loaded\n",
      "Start Parser\n",
      "size vector\n",
      "('size', ['30', '30', '30'])\n",
      "('center', 'true')\n",
      "cube :  {'size': ['30', '30', '30'], 'center': 'true'}\n",
      "End Cube\n",
      "Vector\n",
      "Vector\n",
      "Vector\n",
      "Vector\n",
      "Matrix\n",
      "size vector\n",
      "('size', ['15', '15', '50'])\n",
      "('center', 'true')\n",
      "cube :  {'size': ['15', '15', '50'], 'center': 'true'}\n",
      "End Cube\n",
      "MultMatrix\n",
      "Multmatrix\n",
      "[['1', '0', '0', '0'], ['0', '1', '0', '0'], ['0', '0', '1', '-25'], ['0', '0', '0', '1']]\n",
      "Matrix ((1,0,0,0),(0,1,0,0),(0,0,1,-25),(0,0,0,1))\n",
      "Apply Multmatrix\n",
      "special orthogonal\n",
      "rotation rounded\n",
      "Multmatrix applied\n",
      "[<Part::PartFeature>]\n",
      "union\n",
      "Fuse\n",
      "[<Part::PartFeature>, <Part::PartFeature>]\n",
      "Single Fuse\n",
      "Push Union Result\n",
      "End Union\n",
      "size vector\n",
      "('size', ['50', '10', '10'])\n",
      "('center', 'true')\n",
      "cube :  {'size': ['50', '10', '10'], 'center': 'true'}\n",
      "End Cube\n",
      "size vector\n",
      "('size', ['10', '50', '10'])\n",
      "('center', 'true')\n",
      "cube :  {'size': ['10', '50', '10'], 'center': 'true'}\n",
      "End Cube\n",
      "[<Part::PartFeature>]\n",
      "size vector\n",
      "('size', ['10', '10', '50'])\n",
      "('center', 'true')\n",
      "cube :  {'size': ['10', '10', '50'], 'center': 'true'}\n",
      "End Cube\n",
      "[<Part::PartFeature>]\n",
      "union\n",
      "Fuse\n",
      "[<Part::PartFeature>, <Part::PartFeature>, <Part::PartFeature>]\n",
      "Multi Fuse\n",
      "Push Union Result\n",
      "End Union\n",
      "[<Part::PartFeature>]\n",
      "difference\n",
      "2\n",
      "[<Part::PartFeature>, <Part::PartFeature>]\n",
      "Push Resulting Cut\n",
      "End Cut\n",
      "Vector\n",
      "Vector\n",
      "Vector\n",
      "Vector\n",
      "Matrix\n",
      "('$fn', '0')\n",
      "('$fa', '12')\n",
      "('$fs', '2')\n",
      "('h', '50')\n",
      "('r1', '20')\n",
      "('r2', '5')\n",
      "('center', 'true')\n",
      "Cylinder\n",
      "{'$fn': '0', '$fa': '12', '$fs': '2', 'h': '50', 'r1': '20', 'r2': '5', 'center': 'true'}\n",
      "Make Cone\n",
      "Center =  true\n",
      "End Cylinder\n",
      "MultMatrix\n",
      "Multmatrix\n",
      "[['1', '0', '0', '0'], ['0', '1', '0', '0'], ['0', '0', '1', '5'], ['0', '0', '0', '1']]\n",
      "Matrix ((1,0,0,0),(0,1,0,0),(0,0,1,5),(0,0,0,1))\n",
      "Apply Multmatrix\n",
      "special orthogonal\n",
      "rotation rounded\n",
      "Multmatrix applied\n",
      "[<Part::PartFeature>]\n",
      "intersection\n",
      "Single Common\n",
      "End Intersection\n",
      "Group\n",
      "End Parser\n",
      "[<Part::PartFeature>]\n"
     ]
    },
    {
     "data": {
      "application/vnd.jupyter.widget-view+json": {
       "model_id": "a0b55a4465c84c01b214552afc21f52b",
       "version_major": 2,
       "version_minor": 0
      },
      "text/plain": [
       "Renderer(camera=PerspectiveCamera(fov=40.0, position=(0.0, -40.0, 20.0), projectionMatrix=(1.0, 0.0, 0.0, 0.0,…"
      ]
     },
     "metadata": {},
     "output_type": "display_data"
    },
    {
     "data": {
      "application/vnd.jupyter.widget-view+json": {
       "model_id": "87e4eda9b81e4881a67aedee1a71d1b0",
       "version_major": 2,
       "version_minor": 0
      },
      "text/plain": [
       "HTML(value='<b>No selection.</b>')"
      ]
     },
     "metadata": {},
     "output_type": "display_data"
    }
   ],
   "source": [
    "scadstr='''\n",
    "module example_intersection()\n",
    "{\n",
    "\tintersection() {\n",
    "\t\tdifference() {\n",
    "\t\t\tunion() {\n",
    "\t\t\t\tcube([30, 30, 30], center = true);\n",
    "\t\t\t\ttranslate([0, 0, -25])\n",
    "\t\t\t\t\tcube([15, 15, 50], center = true);\n",
    "\t\t\t}\n",
    "\t\t\tunion() {\n",
    "\t\t\t\tcube([50, 10, 10], center = true);\n",
    "\t\t\t\tcube([10, 50, 10], center = true);\n",
    "\t\t\t\tcube([10, 10, 50], center = true);\n",
    "\t\t\t}\n",
    "\t\t}\n",
    "\t\ttranslate([0, 0, 5])\n",
    "\t\t\tcylinder(h = 50, r1 = 20, r2 = 5, center = true);\n",
    "\t}\n",
    "} \n",
    "example_intersection();\n",
    "'''\n",
    "import OpenSCADUtils\n",
    "import importCSG\n",
    "doc=FreeCAD.activeDocument() or FreeCAD.newDocument()\n",
    "# covert the above OpenSCAD script into CSG script\n",
    "tmpfilename=OpenSCADUtils.callopenscadstring(scadstr,'csg')\n",
    "try :\n",
    "    #import CSG file\n",
    "    importCSG.insert(tmpfilename, doc.Name)\n",
    "finally :\n",
    "    os.unlink(tmpfilename)\n",
    "    render_document(doc)"
   ]
  },
  {
   "cell_type": "code",
   "execution_count": 4,
   "id": "handy-morrison",
   "metadata": {},
   "outputs": [
    {
     "data": {
      "application/vnd.jupyter.widget-view+json": {
       "model_id": "66033b1a105142ae910c8ee1ff93791c",
       "version_major": 2,
       "version_minor": 0
      },
      "text/plain": [
       "Renderer(camera=PerspectiveCamera(fov=40.0, position=(0.0, -40.0, 20.0), projectionMatrix=(1.0, 0.0, 0.0, 0.0,…"
      ]
     },
     "metadata": {},
     "output_type": "display_data"
    },
    {
     "data": {
      "application/vnd.jupyter.widget-view+json": {
       "model_id": "b64a057d58ef49d9a7667b4652b8cae6",
       "version_major": 2,
       "version_minor": 0
      },
      "text/plain": [
       "HTML(value='<b>No selection.</b>')"
      ]
     },
     "metadata": {},
     "output_type": "display_data"
    }
   ],
   "source": [
    "render_document(doc)"
   ]
  },
  {
   "cell_type": "code",
   "execution_count": null,
   "id": "formal-participant",
   "metadata": {},
   "outputs": [],
   "source": []
  }
 ],
 "metadata": {
  "kernelspec": {
   "display_name": "Python 3",
   "language": "python",
   "name": "python3"
  },
  "language_info": {
   "codemirror_mode": {
    "name": "ipython",
    "version": 3
   },
   "file_extension": ".py",
   "mimetype": "text/x-python",
   "name": "python",
   "nbconvert_exporter": "python",
   "pygments_lexer": "ipython3",
   "version": "3.9.2"
  }
 },
 "nbformat": 4,
 "nbformat_minor": 5
}
